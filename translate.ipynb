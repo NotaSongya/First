{
 "cells": [
  {
   "cell_type": "code",
   "execution_count": 4,
   "id": "b85247dc",
   "metadata": {},
   "outputs": [
    {
     "name": "stdout",
     "output_type": "stream",
     "text": [
      "results_dict] = {'Model Name's model_names_list,\n",
      "PETER\n",
      "“CY Pit Time's cv fit tine mean list,\n",
      "‘cv Accuracy mean”! ev_accuracy mean list,\n",
      "“cy Precision mean’: ev precision mean list,\n",
      "“cy Recall moan’ ev_recall mean list,\n",
      "“CV F1 mean‘: cv_fi mean list,\n",
      "apne)\n",
      "\n",
      "“test Accuracy’: test_accuracy list,\n",
      "‘gent Precision’: teat precision list,\n",
      "‘nest Recell'r test_recall_list,\n",
      "\n",
      "‘test Pi's tost_f1_list,\n",
      "\n",
      "results} af = pd.DataFrane(r\n",
      "\n",
      "alts dict)\n",
      "\n",
      "4 BRUM LE OX NETE\n",
      "results dfl.sort_values(by='Test P1', ascending-Palse)\n",
      "\n",
      "Model Name CVFtTime CV Accuracy mean CV Precision mean CV Recallmean CVF mean Test Accuracy Test Precision Test Recall Test Fi\n",
      "\n",
      "2 RandemForest 30891478 Oazeiay Onze cameras cazerer ——a7oeass ——«a7eeDs | a7Se2S5 a7Se265\n",
      "1 Decisentiow 2441377 n00sos noes ——agonses§ ononsas © o.7zen0s © 728005 0.798005 0.728605\n",
      "0 LogetcRegression 81.800670 oreezee ee ee ee ee\n",
      "\n"
     ]
    }
   ],
   "source": [
    "import pytesseract\n",
    "\n",
    "from PIL import Image\n",
    "\n",
    "__author__ = 'admin'\n",
    "\n",
    "im = Image.open(r'C:\\Users\\FullZero\\Desktop\\100.png')\n",
    "\n",
    "print(pytesseract.image_to_string(im))"
   ]
  },
  {
   "cell_type": "code",
   "execution_count": null,
   "id": "0ef6f169",
   "metadata": {},
   "outputs": [],
   "source": []
  }
 ],
 "metadata": {
  "kernelspec": {
   "display_name": "Python 3 (ipykernel)",
   "language": "python",
   "name": "python3"
  },
  "language_info": {
   "codemirror_mode": {
    "name": "ipython",
    "version": 3
   },
   "file_extension": ".py",
   "mimetype": "text/x-python",
   "name": "python",
   "nbconvert_exporter": "python",
   "pygments_lexer": "ipython3",
   "version": "3.9.16"
  }
 },
 "nbformat": 4,
 "nbformat_minor": 5
}
