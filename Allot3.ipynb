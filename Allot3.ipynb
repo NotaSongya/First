{
 "cells": [
  {
   "cell_type": "code",
   "execution_count": null,
   "id": "4ab5ad0c",
   "metadata": {},
   "outputs": [],
   "source": [
    "import cudf\n",
    "from cuml.ensemble import RandomForestClassifier\n",
    "from cuml.experimental.preprocessing import AdaSyn\n",
    "from cuml.preprocessing.model_selection import train_test_split"
   ]
  },
  {
   "cell_type": "code",
   "execution_count": 1,
   "id": "89e52e12",
   "metadata": {},
   "outputs": [],
   "source": [
    "\"\"\"\n",
    "import pandas as pd\n",
    "from pandas.core.frame import DataFrame\n",
    "import numpy as np\n",
    "import seaborn as sns\n",
    "import matplotlib.pyplot as plt\n",
    "plt.style.use('ggplot')\n",
    "%matplotlib inline\n",
    "\n",
    "#* BUERABIBX\n",
    "from sklearn.compose import ColumnTransformer\n",
    "from sklearn.preprocessing import StandardScaler, LabelEncoder, OneHotEncoder\n",
    "from sklearn import neighbors\n",
    "from sklearn.model_selection import train_test_split\n",
    "from sklearn.model_selection import cross_val_score, cross_validate, StratifiedKFold\n",
    "from sklearn.metrics import precision_recall_curve, precision_score, recall_score, f1_score, accuracy_score\n",
    "from sklearn.metrics import roc_curve, auc, roc_auc_score, confusion_matrix, classification_report\n",
    "from sklearn.linear_model import LogisticRegression\n",
    "from sklearn.tree import DecisionTreeClassifier\n",
    "from sklearn.ensemble import RandomForestClassifier\n",
    "from sklearn.neural_network import MLPClassifier\n",
    "from sklearn.decomposition import PCA\n",
    "\n",
    "from imblearn.over_sampling import SMOTE\n",
    "from imblearn.over_sampling import ADASYN\n",
    "\n",
    "import tensorflow as tf\n",
    "import os\n",
    "from tensorflow.keras.models import Sequential\n",
    "from tensorflow.keras.layers import Dense\n",
    "\"\"\""
   ]
  },
  {
   "cell_type": "code",
   "execution_count": 3,
   "id": "7d02ea54",
   "metadata": {},
   "outputs": [],
   "source": [
    "\"\"\"\n",
    "initial_data = pd.read_csv('K:\\\\Data\\\\MachineLearningCSV\\\\MachineLearningCVE\\\\total4.csv')\n",
    "initial_data.head(n=5)\n",
    "\n",
    "data_to_use = initial_data.dropna()\n",
    "data_to_use.shape\n",
    "numerical_cols = data_to_use.select_dtypes(include=['int64', 'float64']).columns\n",
    "categorical_cols = data_to_use.select_dtypes(include=['object', 'bool']).columns\n",
    "\"\"\""
   ]
  },
  {
   "cell_type": "code",
   "execution_count": 5,
   "id": "2e18cb52",
   "metadata": {},
   "outputs": [],
   "source": [
    "\"\"\"\n",
    "import joblib\n",
    "t = [('ohe', OneHotEncoder(drop='first'), categorical_cols),\n",
    "('scale', StandardScaler(), numerical_cols)]\n",
    "\n",
    "col_trans = ColumnTransformer(transformers=t)\n",
    "col_trans.fit(data_to_use)\n",
    "joblib.dump(col_trans, 'col_trans.joblib')\n",
    "col_trans = joblib.load('col_trans.joblib')\n",
    "\n",
    "transformed = col_trans.transform(data_to_use)\n",
    "# 将转换后的数据转换为 DataFrame\n",
    "transformed_df = pd.DataFrame(transformed, columns=col_trans.get_feature_names_out())\n",
    "# 保存为 CSV 文件\n",
    "transformed_df.to_csv('K:\\\\Data\\\\MachineLearningCSV\\\\MachineLearningCVE\\\\totaltrans.csv', index=False)\n",
    "\"\"\""
   ]
  },
  {
   "cell_type": "code",
   "execution_count": null,
   "id": "eb6268af",
   "metadata": {},
   "outputs": [],
   "source": [
    "data = cudf.read_csv('K:\\\\Data\\\\MachineLearningCSV\\\\MachineLearningCVE\\\\totaltrans.csv.csv')\n",
    "#X = data_to_use.drop(axis=1, columns=[ 'Label'])\n",
    "#y = data_to_use['Label'].values"
   ]
  },
  {
   "cell_type": "code",
   "execution_count": null,
   "id": "c03516e0",
   "metadata": {},
   "outputs": [],
   "source": [
    "# 将数据集分成特征矩阵X和标签向量y\n",
    "X = data.iloc[:, :-1]  # 特征矩阵\n",
    "y = data.iloc[:, -1]   # 标签向量\n",
    "X_train, X_test, y_train, y_test = train_test_split(X, y, test_size=0.2, random_state=123)"
   ]
  },
  {
   "cell_type": "code",
   "execution_count": null,
   "id": "5caab67c",
   "metadata": {},
   "outputs": [],
   "source": [
    "# 使用AdaSyn进行上采样\n",
    "adasyn = AdaSyn()\n",
    "X_resampled, y_resampled = adasyn.fit_resample(X, y)"
   ]
  },
  {
   "cell_type": "code",
   "execution_count": null,
   "id": "eaad5697",
   "metadata": {},
   "outputs": [],
   "source": [
    "# 创建并训练随机森林分类器\n",
    "clf = RandomForestClassifier(random_state=123)\n",
    "clf.fit(X_resampled, y_resampled)"
   ]
  },
  {
   "cell_type": "code",
   "execution_count": null,
   "id": "2498f4cc",
   "metadata": {},
   "outputs": [],
   "source": [
    "y_pred = clf.predict(X_test)\n",
    "accuracy = (y_pred == y_test).mean()\n",
    "print(\"Accuracy:\", accuracy)"
   ]
  }
 ],
 "metadata": {
  "kernelspec": {
   "display_name": "Python 3 (ipykernel)",
   "language": "python",
   "name": "python3"
  },
  "language_info": {
   "codemirror_mode": {
    "name": "ipython",
    "version": 3
   },
   "file_extension": ".py",
   "mimetype": "text/x-python",
   "name": "python",
   "nbconvert_exporter": "python",
   "pygments_lexer": "ipython3",
   "version": "3.9.16"
  }
 },
 "nbformat": 4,
 "nbformat_minor": 5
}
