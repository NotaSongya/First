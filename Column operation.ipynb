{
 "cells": [
  {
   "cell_type": "code",
   "execution_count": 13,
   "id": "681d3590",
   "metadata": {
    "scrolled": true
   },
   "outputs": [
    {
     "name": "stdout",
     "output_type": "stream",
     "text": [
      "Current encoding: utf-8\n"
     ]
    }
   ],
   "source": [
    "import chardet\n",
    "import subprocess\n",
    "\n",
    "# 检测 CSV 文件的编码方式\n",
    "def detect_encoding(file_path):\n",
    "    with open(file_path, 'rb') as f:\n",
    "        result = chardet.detect(f.read())\n",
    "        return result['encoding']\n",
    "\n",
    "# 要处理的 CSV 文件路径\n",
    "csv_file_path = 'C:\\\\Users\\\\FullZero\\\\Desktop\\\\test2.pcap_Flow.csv'\n",
    "\n",
    "# 检测当前编码方式\n",
    "current_encoding = detect_encoding(csv_file_path)\n",
    "print('Current encoding:', current_encoding)\n"
   ]
  },
  {
   "cell_type": "code",
   "execution_count": 10,
   "id": "f49aed83",
   "metadata": {},
   "outputs": [
    {
     "name": "stdout",
     "output_type": "stream",
     "text": [
      "Encoding changed to utf-8\n"
     ]
    }
   ],
   "source": [
    "import csv\n",
    "\n",
    "# 要处理的 CSV 文件路径\n",
    "csv_file_path = 'C:\\\\Users\\\\FullZero\\\\Desktop\\\\test2.pcap_Flow.csv'\n",
    "\n",
    "# 当前编码方式\n",
    "current_encoding = 'GB2312'\n",
    "\n",
    "# 新编码方式\n",
    "new_encoding = 'utf-8'\n",
    "\n",
    "# 打开 CSV 文件并读取内容\n",
    "with open(csv_file_path, 'r', encoding=current_encoding) as file:\n",
    "    reader = csv.reader(file)\n",
    "    rows = list(reader)\n",
    "\n",
    "# 写入转换后的内容到新的 CSV 文件\n",
    "with open(csv_file_path, 'w', encoding=new_encoding, newline='') as file:\n",
    "    writer = csv.writer(file)\n",
    "    writer.writerows(rows)\n",
    "\n",
    "print('Encoding changed to', new_encoding)\n"
   ]
  },
  {
   "cell_type": "code",
   "execution_count": 1,
   "id": "2ec1e730",
   "metadata": {
    "scrolled": true
   },
   "outputs": [],
   "source": [
    "import pandas as pd\n",
    "\n",
    "# 要处理的 CSV 文件路径\n",
    "csv_file_path = 'C:\\\\Users\\\\FullZero\\\\Desktop\\\\test2.pcap_Flow.csv'\n",
    "output_file_path = 'C:\\\\Users\\\\FullZero\\\\Desktop\\\\test2_modified.csv'\n",
    "\n",
    "# 列头映射字典\n",
    "column_mapping = {\n",
    "    'Dst Port': 'Destination Port',\n",
    "    'Flow Duration': 'Flow Duration',\n",
    "    'Total Fwd Packet': 'Total Fwd Packets',\n",
    "    'Total Bwd packets': 'Total Backward Packets',\n",
    "    'Total Length of Fwd Packet': 'Total Length of Fwd Packets',\n",
    "    'Total Length of Bwd Packet': 'Total Length of Bwd Packets',\n",
    "    'Fwd Packet Length Max': 'Fwd Packet Length Max',\n",
    "    'Fwd Packet Length Min': 'Fwd Packet Length Min',\n",
    "    'Fwd Packet Length Mean': 'Fwd Packet Length Mean',\n",
    "    'Fwd Packet Length Std': 'Fwd Packet Length Std',\n",
    "    'Bwd Packet Length Max': 'Bwd Packet Length Max',\n",
    "    'Bwd Packet Length Min': 'Bwd Packet Length Min',\n",
    "    'Bwd Packet Length Mean': 'Bwd Packet Length Mean',\n",
    "    'Bwd Packet Length Std': 'Bwd Packet Length Std',\n",
    "    'Flow Bytes/s': 'Flow Bytes/s',\n",
    "    'Flow Packets/s': 'Flow Packets/s',\n",
    "    'Flow IAT Mean': 'Flow IAT Mean',\n",
    "    'Flow IAT Std': 'Flow IAT Std',\n",
    "    'Flow IAT Max': 'Flow IAT Max',\n",
    "    'Flow IAT Min': 'Flow IAT Min',\n",
    "    'Fwd IAT Total': 'Fwd IAT Total',\n",
    "    'Fwd IAT Mean': 'Fwd IAT Mean',\n",
    "    'Fwd IAT Std': 'Fwd IAT Std',\n",
    "    'Fwd IAT Max': 'Fwd IAT Max',\n",
    "    'Fwd IAT Min': 'Fwd IAT Min',\n",
    "    'Bwd IAT Total': 'Bwd IAT Total',\n",
    "    'Bwd IAT Mean': 'Bwd IAT Mean',\n",
    "    'Bwd IAT Std': 'Bwd IAT Std',\n",
    "    'Bwd IAT Max': 'Bwd IAT Max',\n",
    "    'Bwd IAT Min': 'Bwd IAT Min',\n",
    "    'Fwd PSH Flags': 'Fwd PSH Flags',\n",
    "    'Bwd PSH Flags': 'Bwd PSH Flags',\n",
    "    'Fwd URG Flags': 'Fwd URG Flags',\n",
    "    'Bwd URG Flags': 'Bwd URG Flags',\n",
    "    'Fwd Header Length': 'Fwd Header Length',\n",
    "    'Bwd Header Length': 'Bwd Header Length',\n",
    "    'Fwd Packets/s': 'Fwd Packets/s',\n",
    "    'Bwd Packets/s': 'Bwd Packets/s',\n",
    "    'Packet Length Min': 'Min Packet Length',\n",
    "    'Packet Length Max': 'Max Packet Length',\n",
    "    'Packet Length Mean': 'Packet Length Mean',\n",
    "    'Packet Length Std': 'Packet Length Std',\n",
    "    'Packet Length Variance': 'Packet Length Variance',\n",
    "    'FIN Flag Count': 'FIN Flag Count',\n",
    "    'SYN Flag Count': 'SYN Flag Count',\n",
    "    'RST Flag Count': 'RST Flag Count',\n",
    "    'PSH Flag Count': 'PSH Flag Count',\n",
    "    'ACK Flag Count': 'ACK Flag Count',\n",
    "    'URG Flag Count': 'URG Flag Count',\n",
    "    'CWR Flag Count': 'CWE Flag Count',\n",
    "    'ECE Flag Count': 'ECE Flag Count',\n",
    "    'Down/Up Ratio': 'Down/Up Ratio',\n",
    "    'Average Packet Size': 'Average Packet Size',\n",
    "    'Fwd Segment Size Avg': 'Avg Fwd Segment Size',\n",
    "    'Bwd Segment Size Avg': 'Avg Bwd Segment Size',\n",
    "    'Fwd Bytes/Bulk Avg': 'Fwd Avg Bytes/Bulk',\n",
    "    'Fwd Packet/Bulk Avg': 'Fwd Avg Packets/Bulk',\n",
    "    'Fwd Bulk Rate Avg': 'Fwd Avg Bulk Rate',\n",
    "    'Bwd Bytes/Bulk Avg': 'Bwd Avg Bytes/Bulk',\n",
    "    'Bwd Packet/Bulk Avg': 'Bwd Avg Packets/Bulk',\n",
    "    'Bwd Bulk Rate Avg': 'Bwd Avg Bulk Rate',\n",
    "    'Subflow Fwd Packets': 'Subflow Fwd Packets',\n",
    "    'Subflow Fwd Bytes': 'Subflow Fwd Bytes',\n",
    "    'Subflow Bwd Packets': 'Subflow Bwd Packets',\n",
    "    'Subflow Bwd Bytes': 'Subflow Bwd Bytes',\n",
    "    'FWD Init Win Bytes': 'Init_Win_bytes_forward',\n",
    "    'Bwd Init Win Bytes': 'Init_Win_bytes_backward',\n",
    "    'Fwd Act Data Pkts': 'act_data_pkt_fwd',\n",
    "    'Fwd Seg Size Min': 'min_seg_size_forward',\n",
    "    'Active Mean': 'Active Mean',\n",
    "    'Active Std': 'Active Std',\n",
    "    'Active Max': 'Active Max',\n",
    "    'Active Min': 'Active Min',\n",
    "    'Idle Mean': 'Idle Mean',\n",
    "    'Idle Std': 'Idle Std',\n",
    "    'Idle Max': 'Idle Max',\n",
    "    'Idle Min': 'Idle Min',\n",
    "    'Label': 'Label'\n",
    "}\n",
    "\n",
    "# 读取 CSV 文件并替换列头\n",
    "df = pd.read_csv(csv_file_path)\n",
    "df.rename(columns=column_mapping, inplace=True)\n",
    "\n",
    "# 删除列\n",
    "columns_to_drop = ['Flow ID', 'Src IP', 'Src Port', 'Dst IP', 'Protocol', 'Timestamp']\n",
    "df = df.drop(columns=columns_to_drop)\n",
    "\n",
    "# 将修改后的结果写入 CSV 文件\n",
    "df.to_csv(output_file_path, index=False)\n"
   ]
  },
  {
   "cell_type": "code",
   "execution_count": null,
   "id": "599c39da",
   "metadata": {},
   "outputs": [],
   "source": []
  }
 ],
 "metadata": {
  "kernelspec": {
   "display_name": "Python 3 (ipykernel)",
   "language": "python",
   "name": "python3"
  },
  "language_info": {
   "codemirror_mode": {
    "name": "ipython",
    "version": 3
   },
   "file_extension": ".py",
   "mimetype": "text/x-python",
   "name": "python",
   "nbconvert_exporter": "python",
   "pygments_lexer": "ipython3",
   "version": "3.9.16"
  }
 },
 "nbformat": 4,
 "nbformat_minor": 5
}
