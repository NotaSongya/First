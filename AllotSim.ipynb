{
 "cells": [
  {
   "cell_type": "code",
   "execution_count": null,
   "id": "4ec9f19f",
   "metadata": {},
   "outputs": [],
   "source": [
    "import pandas as pd\n",
    "from pandas.core.frame import DataFrame\n",
    "import numpy as np\n",
    "import seaborn as sns\n",
    "import matplotlib.pyplot as plt\n",
    "plt.style.use('ggplot')\n",
    "%matplotlib inline\n",
    "\n",
    "#* BUERABIBX\n",
    "from sklearn.compose import ColumnTransformer\n",
    "from sklearn.preprocessing import StandardScaler, LabelEncoder, OneHotEncoder\n",
    "from sklearn import neighbors\n",
    "\n",
    "# MBER\n",
    "\n",
    "from sklearn.model_selection import train_test_split\n",
    "from sklearn.model_selection import cross_val_score, cross_validate, StratifiedKFold\n",
    "from sklearn.metrics import precision_recall_curve, precision_score, recall_score, f1_score, accuracy_score\n",
    "from sklearn.metrics import roc_curve, auc, roc_auc_score, confusion_matrix, classification_report\n",
    "\n",
    "# DRBAX\n",
    "from sklearn.linear_model import LogisticRegression\n",
    "from sklearn.tree import DecisionTreeClassifier\n",
    "from sklearn.ensemble import RandomForestClassifier\n",
    "from sklearn.neural_network import MLPClassifier\n",
    "from sklearn.decomposition import PCA\n",
    "\n",
    "from imblearn.over_sampling import SMOTE\n",
    "from imblearn.over_sampling import ADASYN\n",
    "\n",
    "import tensorflow as tf\n",
    "physical_devices = tf.config.list_physical_devices('GPU')\n",
    "print(physical_devices)\n",
    "import os\n",
    "os.environ[\"CUDA_VISIBLE_DEVICES\"] = \"0\" # 指定使用的GPU编号\n",
    "device_name = tf.test.gpu_device_name()\n",
    "if device_name != '/device:GPU:0':\n",
    "    raise SystemError('GPU device not found')\n",
    "print('Found GPU at:', device_name)"
   ]
  },
  {
   "cell_type": "code",
   "execution_count": null,
   "id": "765d11c0",
   "metadata": {},
   "outputs": [],
   "source": [
    "# 读取数据\n",
    "initial_data = pd.read_csv('K:\\\\Data\\\\MachineLearningCSV\\\\MachineLearningCVE\\\\total4.csv')\n",
    "initial_data.head(n=5)"
   ]
  },
  {
   "cell_type": "code",
   "execution_count": null,
   "id": "a30d045a",
   "metadata": {},
   "outputs": [],
   "source": [
    "# 删除缺失值\n",
    "data_to_use = initial_data.dropna()\n",
    "data_to_use.shape"
   ]
  },
  {
   "cell_type": "code",
   "execution_count": null,
   "id": "a34737e4",
   "metadata": {},
   "outputs": [],
   "source": [
    "# 提取特征和标签\n",
    "X = data_to_use.drop(axis=1, columns=['Label'])\n",
    "y1 = data_to_use['Label'].values"
   ]
  },
  {
   "cell_type": "code",
   "execution_count": null,
   "id": "31a52748",
   "metadata": {},
   "outputs": [],
   "source": [
    "# ADASYN上采样\n",
    "adasyn = ADASYN()\n",
    "X, y = adasyn.fit_resample(X, y)"
   ]
  },
  {
   "cell_type": "code",
   "execution_count": null,
   "id": "49eeb736",
   "metadata": {},
   "outputs": [],
   "source": [
    "# 划分训练集和测试集\n",
    "X_train, X_test, y_train, y_test = train_test_split(X, y, test_size=0.2, random_state=123)"
   ]
  },
  {
   "cell_type": "code",
   "execution_count": null,
   "id": "2f69218e",
   "metadata": {},
   "outputs": [],
   "source": [
    "# 确定数值型和分类型特征列\n",
    "numerical_cols = X.select_dtypes(include=['int64', 'float64']).columns\n",
    "categorical_cols = X.select_dtypes(include=['object', 'bool']).columns\n"
   ]
  },
  {
   "cell_type": "code",
   "execution_count": null,
   "id": "3d6fcc12",
   "metadata": {},
   "outputs": [],
   "source": [
    "# 特征预处理\n",
    "t = [('ohe', OneHotEncoder(drop='first'), categorical_cols),\n",
    "     ('scale', StandardScaler(), numerical_cols)]\n",
    "col_trans = ColumnTransformer(transformers=t)\n",
    "col_trans.fit(X)\n",
    "X_train_transform = col_trans.transform(X_train)\n",
    "X_test_transform = col_trans.transform(X_test)\n"
   ]
  },
  {
   "cell_type": "code",
   "execution_count": null,
   "id": "2a7ea622",
   "metadata": {},
   "outputs": [],
   "source": [
    "# 标签编码\n",
    "target_trans = LabelEncoder()\n",
    "y1_train_transform = target_trans.fit_transform(y1_train)\n",
    "y1_test_transform = target_trans.transform(y1_test)\n"
   ]
  },
  {
   "cell_type": "code",
   "execution_count": null,
   "id": "4891c11a",
   "metadata": {},
   "outputs": [],
   "source": [
    "# 训练随机森林分类器\n",
    "clf = RandomForestClassifier(random_state=123, max_depth=10, min_samples_split=5, min_samples_leaf=2)\n",
    "clf.fit(X=X_train_transform, y=y1_train_transform)\n"
   ]
  },
  {
   "cell_type": "code",
   "execution_count": null,
   "id": "36a4bb23",
   "metadata": {},
   "outputs": [],
   "source": [
    "# 预测和评估\n",
    "y_pred_class = clf.predict(X=X_test_transform)\n",
    "y_pred_score = clf.predict_proba(X=X_test_transform)[:, 1]"
   ]
  }
 ],
 "metadata": {
  "kernelspec": {
   "display_name": "Python 3 (ipykernel)",
   "language": "python",
   "name": "python3"
  },
  "language_info": {
   "codemirror_mode": {
    "name": "ipython",
    "version": 3
   },
   "file_extension": ".py",
   "mimetype": "text/x-python",
   "name": "python",
   "nbconvert_exporter": "python",
   "pygments_lexer": "ipython3",
   "version": "3.9.16"
  }
 },
 "nbformat": 4,
 "nbformat_minor": 5
}
