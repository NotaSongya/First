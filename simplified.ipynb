{
 "cells": [
  {
   "cell_type": "code",
   "execution_count": 2,
   "id": "eb01c17f",
   "metadata": {},
   "outputs": [],
   "source": [
    "import pandas as pd\n",
    "from pandas.core.frame import DataFrame\n",
    "import numpy as np\n",
    "import seaborn as sns\n",
    "import matplotlib.pyplot as plt\n",
    "plt.style.use('ggplot')\n",
    "import joblib\n",
    "import pickle\n",
    "import csv\n",
    "#%matplotlib inline\n",
    "\n",
    "#* BUERABIBX\n",
    "from sklearn.compose import ColumnTransformer\n",
    "from sklearn.preprocessing import StandardScaler, LabelEncoder, OneHotEncoder\n",
    "from sklearn import neighbors\n",
    "\n",
    "# MBER\n",
    "\n",
    "from sklearn.model_selection import train_test_split\n",
    "from sklearn.model_selection import cross_val_score, cross_validate, StratifiedKFold\n",
    "from sklearn.metrics import precision_recall_curve, precision_score, recall_score, f1_score, accuracy_score\n",
    "from sklearn.metrics import roc_curve, auc, roc_auc_score, confusion_matrix, classification_report\n",
    "\n",
    "# DRBAX\n",
    "from sklearn.linear_model import LogisticRegression\n",
    "from sklearn.tree import DecisionTreeClassifier\n",
    "from sklearn.ensemble import RandomForestClassifier\n",
    "from sklearn.neural_network import MLPClassifier\n",
    "from sklearn.decomposition import PCA\n",
    " "
   ]
  },
  {
   "cell_type": "code",
   "execution_count": 2,
   "id": "1145621f",
   "metadata": {},
   "outputs": [
    {
     "data": {
      "text/plain": [
       "'\\nheader = [\"id\", \"dur\", \"proto\", \"service\", \"state\", \"spkts\", \"dpkts\", \"sbytes\", \"dbytes\", \"rate\", \"sttl\", \"dttl\", \"sload\", \"dload\", \"sloss\", \"dloss\", \"sinpkt\", \"dinpkt\", \"sjit\", \"djit\", \"swin\", \"stcpb\", \"dtcpb\", \"dwin\", \"tcprtt\", \"synack\", \"ackdat\", \"smean\", \"dmean\", \"trans_depth\", \"response_body_len\", \"ct_srv_src\", \"ct_state_ttl\", \"ct_dst_ltm\", \"ct_src_dport_ltm\", \"ct_dst_sport_ltm\", \"ct_dst_src_ltm\", \"is_ftp_login\", \"ct_ftp_cmd\", \"ct_flw_http_mthd\", \"ct_src_ltm\", \"ct_srv_dst\", \"is_sm_ips_ports\", \"attack_cat\", \"label\"]\\n\\ndata = []\\nfor column in header:\\n    value = input(\"Enter {}: \".format(column))\\n    data.append(value)\\n\\nwith open(\"output.csv\", \"w\", newline=\"\") as file:\\n    writer = csv.writer(file)\\n    writer.writerow(header)\\n    writer.writerow(data)\\n'"
      ]
     },
     "execution_count": 2,
     "metadata": {},
     "output_type": "execute_result"
    }
   ],
   "source": [
    "\"\"\"\n",
    "header = [\"id\", \"dur\", \"proto\", \"service\", \"state\", \"spkts\", \"dpkts\", \"sbytes\", \"dbytes\", \"rate\", \"sttl\", \"dttl\", \"sload\", \"dload\", \"sloss\", \"dloss\", \"sinpkt\", \"dinpkt\", \"sjit\", \"djit\", \"swin\", \"stcpb\", \"dtcpb\", \"dwin\", \"tcprtt\", \"synack\", \"ackdat\", \"smean\", \"dmean\", \"trans_depth\", \"response_body_len\", \"ct_srv_src\", \"ct_state_ttl\", \"ct_dst_ltm\", \"ct_src_dport_ltm\", \"ct_dst_sport_ltm\", \"ct_dst_src_ltm\", \"is_ftp_login\", \"ct_ftp_cmd\", \"ct_flw_http_mthd\", \"ct_src_ltm\", \"ct_srv_dst\", \"is_sm_ips_ports\", \"attack_cat\", \"label\"]\n",
    "\n",
    "data = []\n",
    "for column in header:\n",
    "    value = input(\"Enter {}: \".format(column))\n",
    "    data.append(value)\n",
    "\n",
    "with open(\"output.csv\", \"w\", newline=\"\") as file:\n",
    "    writer = csv.writer(file)\n",
    "    writer.writerow(header)\n",
    "    writer.writerow(data)\n",
    "\"\"\" "
   ]
  },
  {
   "cell_type": "code",
   "execution_count": 4,
   "id": "1710feed",
   "metadata": {},
   "outputs": [
    {
     "name": "stdout",
     "output_type": "stream",
     "text": [
      "Enter test data file path: C:\\\\Users\\\\FullZero\\\\Desktop\\\\test2_modified.csv\n"
     ]
    }
   ],
   "source": [
    "# 读取CSV文件\n",
    "df_path = input(\"Enter test data file path: \")\n",
    "df = pd.read_csv(df_path)\n",
    "#df = pd.read_csv('K:\\\\Data\\\\MachineLearningCSV\\\\MachineLearningCVE\\\\total2.csv')\n",
    "\n",
    "# 检查第15和16列的NaN和Infinity值\n",
    "mask = np.isnan(df.iloc[:, 14]) | np.isnan(df.iloc[:, 15]) | np.isinf(df.iloc[:, 14]) | np.isinf(df.iloc[:, 15])\n",
    "# 删除满足条件的行\n",
    "df = df[~mask]\n",
    "\n",
    "test_data = df\n",
    "X_test = test_data.drop(axis=1, columns=[ 'Label'])\n",
    "\n",
    "col_trans = joblib.load('col_trans.joblib')\n",
    "X_test_transform = col_trans.transform(X_test)\n",
    "\n",
    "# 保存修改后的CSV文件\n",
    "#df.to_csv('work.csv', index=False)"
   ]
  },
  {
   "cell_type": "code",
   "execution_count": 5,
   "id": "a0c01d39",
   "metadata": {},
   "outputs": [],
   "source": [
    "#test_data_path = input(\"Enter test data file path: \")\n",
    "#test_data = pd.read_csv(test_data_path)\n",
    "\n",
    "#test_data = pd.read_csv('work.csv')\n",
    "\n",
    "#X_test = test_data.drop(axis=1, columns=[ ' Label'])\n",
    "#X_test = test_data.drop(axis=1, columns=['attack_cat'])\n",
    "#X_test = X_test.drop(axis=1, columns=['label'])\n",
    "\n",
    "#col_trans = joblib.load('col_trans.joblib')\n",
    "#X_test_transform = col_trans.transform(X_test)\n",
    " "
   ]
  },
  {
   "cell_type": "code",
   "execution_count": 8,
   "id": "369ca76f",
   "metadata": {},
   "outputs": [
    {
     "name": "stdout",
     "output_type": "stream",
     "text": [
      "[0 0 0 0 0 0 0 0 0 0 0 0 0 0 0 0 0 0 0 0 0 0 0 0 0 0 0 0 0 0 0 0 0 0 0 0 0\n",
      " 0 0 0 0 0 0 0 0 0 0 0 0 0 0 0 0 0 0 0 0 0 0 0 0 0 0 0 0 0 0 0 0 0 0 0 0 0\n",
      " 0 0 0 0 0 0 0 0 0 0 0 0 0 0 0 0 0 0 0 0 0 0 0 0 0 0 0 0 0 0 0 0 0 0 0 0 0\n",
      " 0 0 0 0 0 0 0 0 0 0 0 0 0 0 0 0 0 0 0 0 0 0 0 0 0 0 0 0 0 0 0 0 0 0 0 0 0\n",
      " 0 0 0 0 0 0 0 0 0 0 0 0 0 0 0 0 0 0 0 0 0 0 0 0 0 0 0 0 0 0 0 0 0 0 0 0 0\n",
      " 0 0 0 0 0 0 0 0 0 0 0 0 0 0 0 0 0 0 0]\n",
      "预测结果已保存到 文件。\n"
     ]
    }
   ],
   "source": [
    "# Load the model from file\n",
    "with open(\"crmodel.pkl\", \"rb\") as f:\n",
    "    loaded_model = pickle.load(f)\n",
    "\n",
    "# Make predictions on the data\n",
    "y_pred_class = loaded_model.predict(X=X_test_transform)\n",
    "y_pred_score = loaded_model.predict_proba(X=X_test_transform)\n",
    "\n",
    "print(y_pred_class)\n",
    "#print(y_pred_score)\n",
    "\n",
    "# 将预测结果重新写入\"Label\"列\n",
    "df['Label'] = y_pred_class\n",
    "# 输出修改后的DataFrame为CSV文件\n",
    "df.to_csv('C:\\\\Users\\\\FullZero\\\\Desktop\\\\test2_modified1.csv', index=False)\n",
    "print(\"预测结果已保存到 文件。\")\n",
    "#input('按Enter键退出')\n",
    "\n"
   ]
  },
  {
   "cell_type": "code",
   "execution_count": null,
   "id": "ff57bccb",
   "metadata": {},
   "outputs": [],
   "source": []
  }
 ],
 "metadata": {
  "kernelspec": {
   "display_name": "Python 3 (ipykernel)",
   "language": "python",
   "name": "python3"
  },
  "language_info": {
   "codemirror_mode": {
    "name": "ipython",
    "version": 3
   },
   "file_extension": ".py",
   "mimetype": "text/x-python",
   "name": "python",
   "nbconvert_exporter": "python",
   "pygments_lexer": "ipython3",
   "version": "3.9.16"
  }
 },
 "nbformat": 4,
 "nbformat_minor": 5
}
