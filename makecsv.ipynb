{
 "cells": [
  {
   "cell_type": "code",
   "execution_count": 1,
   "id": "908dfd26",
   "metadata": {},
   "outputs": [
    {
     "name": "stdout",
     "output_type": "stream",
     "text": [
      "Enter your name: zml\n",
      "Enter your age: 20\n",
      "Enter your gender: m\n"
     ]
    }
   ],
   "source": [
    "import csv\n",
    "\n",
    "with open('C:\\\\Users\\\\FullZero\\\\Desktop\\\\dataset\\\\test.csv', mode='w', newline='') as file:\n",
    "    writer = csv.writer(file)\n",
    "    writer.writerow([\"id\", \"dur\", \"spkts\", \"dpkts\", \"sbytes\", \"dbytes\", \"rate\", \"sttl\",\"dttl\", \"sload\", \"dload\", \"sloss\", \"dloss\", \"sinpkt\", \"dinpkt\", \"sjit\",\"djit\", \"swin\", \"stcpb\", \"dtcpb\", \"dwin\", \"tcprtt\", \"synack\", \"ackdat\",\"smean\", \"dmean\", \"trans_depth\", \"response_body_len\", \"ct_srv_src\",\"ct_state_ttl\", \"ct_dst_ltm\", \"ct_src_dport_ltm\", \"ct_dst_sport_ltm\",\"ct_dst_src_ltm\", \"is_ftp_login\", \"ct_ftp_cmd\", \"ct_flw_http_mthd\",\"ct_src_ltm\", \"ct_srv_dst\", \"is_sm_ips_ports\", \"attack_cat\", \"label\"])\n",
    "    name = input(\"Enter your name: \")\n",
    "    age = input(\"Enter your age: \")\n",
    "    gender = input(\"Enter your gender: \")\n",
    "    writer.writerow([id, dur, spkts, dpkts, sbytes, dbytes, rate, sttl,dttl, sload, dload, sloss, dloss, sinpkt, dinpkt, sjit,djit, swin, stcpb, dtcpb, dwin, tcprtt, synack, ackdat,smean, dmean, trans_depth, response_body_len, ct_srv_src,ct_state_ttl, ct_dst_ltm, ct_src_dport_ltm, ct_dst_sport_ltm,ct_dst_src_ltm, is_ftp_login, ct_ftp_cmd, ct_flw_http_mthd,ct_src_ltm, ct_srv_dst, is_sm_ips_ports, attack_cat, label])\n"
   ]
  },
  {
   "cell_type": "code",
   "execution_count": null,
   "id": "e1565e88",
   "metadata": {},
   "outputs": [],
   "source": [
    "import csv\n",
    "\n",
    "with open('test.csv', mode='w', newline='') as file:\n",
    "    writer = csv.writer(file)\n",
    "    writer.writerow([\"id\", \"dur\", \"spkts\", \"dpkts\", \"sbytes\", \"dbytes\", \"rate\", \"sttl\",\"dttl\", \"sload\", \"dload\", \"sloss\", \"dloss\", \"sinpkt\", \"dinpkt\", \"sjit\",\"djit\", \"swin\", \"stcpb\", \"dtcpb\", \"dwin\", \"tcprtt\", \"synack\", \"ackdat\",\"smean\", \"dmean\", \"trans_depth\", \"response_body_len\", \"ct_srv_src\",\"ct_state_ttl\", \"ct_dst_ltm\", \"ct_src_dport_ltm\", \"ct_dst_sport_ltm\",\"ct_dst_src_ltm\", \"is_ftp_login\", \"ct_ftp_cmd\", \"ct_flw_http_mthd\",\"ct_src_ltm\", \"ct_srv_dst\", \"is_sm_ips_ports\", \"attack_cat\", \"label\"])\n",
    "    rows = [[\"Alice\", 25, \"Female\"], [\"Bob\", 30, \"Male\"], [\"Charlie\", 35, \"Male\"]]\n",
    "    writer.writerows(rows)\n"
   ]
  }
 ],
 "metadata": {
  "kernelspec": {
   "display_name": "Python 3 (ipykernel)",
   "language": "python",
   "name": "python3"
  },
  "language_info": {
   "codemirror_mode": {
    "name": "ipython",
    "version": 3
   },
   "file_extension": ".py",
   "mimetype": "text/x-python",
   "name": "python",
   "nbconvert_exporter": "python",
   "pygments_lexer": "ipython3",
   "version": "3.9.16"
  }
 },
 "nbformat": 4,
 "nbformat_minor": 5
}
