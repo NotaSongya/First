{
 "cells": [
  {
   "cell_type": "code",
   "execution_count": 1,
   "id": "bb848e54",
   "metadata": {
    "scrolled": false
   },
   "outputs": [
    {
     "name": "stdout",
     "output_type": "stream",
     "text": [
      "[PhysicalDevice(name='/physical_device:GPU:0', device_type='GPU')]\n",
      "Found GPU at: /device:GPU:0\n"
     ]
    }
   ],
   "source": [
    "# BENEX\n",
    "\n",
    "import pandas as pd\n",
    "from pandas.core.frame import DataFrame\n",
    "import numpy as np\n",
    "import seaborn as sns\n",
    "import matplotlib.pyplot as plt\n",
    "plt.style.use('ggplot')\n",
    "%matplotlib inline\n",
    "\n",
    "#* BUERABIBX\n",
    "from sklearn.compose import ColumnTransformer\n",
    "from sklearn.preprocessing import StandardScaler, LabelEncoder, OneHotEncoder\n",
    "from sklearn import neighbors\n",
    "\n",
    "# MBER\n",
    "\n",
    "from sklearn.model_selection import train_test_split\n",
    "from sklearn.model_selection import cross_val_score, cross_validate, StratifiedKFold\n",
    "from sklearn.metrics import precision_recall_curve, precision_score, recall_score, f1_score, accuracy_score\n",
    "from sklearn.metrics import roc_curve, auc, roc_auc_score, confusion_matrix, classification_report\n",
    "\n",
    "# DRBAX\n",
    "from sklearn.linear_model import LogisticRegression\n",
    "from sklearn.tree import DecisionTreeClassifier\n",
    "from sklearn.ensemble import RandomForestClassifier\n",
    "from sklearn.neural_network import MLPClassifier\n",
    "from sklearn.decomposition import PCA\n",
    "\n",
    "from imblearn.over_sampling import SMOTE\n",
    "from imblearn.over_sampling import ADASYN\n",
    "\n",
    "import tensorflow as tf\n",
    "physical_devices = tf.config.list_physical_devices('GPU')\n",
    "print(physical_devices)\n",
    "import os\n",
    "os.environ[\"CUDA_VISIBLE_DEVICES\"] = \"0\" # 指定使用的GPU编号\n",
    "device_name = tf.test.gpu_device_name()\n",
    "if device_name != '/device:GPU:0':\n",
    "    raise SystemError('GPU device not found')\n",
    "print('Found GPU at:', device_name)"
   ]
  },
  {
   "cell_type": "code",
   "execution_count": 2,
   "id": "f20f86c7",
   "metadata": {},
   "outputs": [],
   "source": [
    "initial_data = pd.read_csv('K:\\\\Data\\\\MachineLearningCSV\\\\MachineLearningCVE\\\\total4.csv')"
   ]
  },
  {
   "cell_type": "code",
   "execution_count": 3,
   "id": "3e85c57b",
   "metadata": {},
   "outputs": [
    {
     "data": {
      "text/html": [
       "<div>\n",
       "<style scoped>\n",
       "    .dataframe tbody tr th:only-of-type {\n",
       "        vertical-align: middle;\n",
       "    }\n",
       "\n",
       "    .dataframe tbody tr th {\n",
       "        vertical-align: top;\n",
       "    }\n",
       "\n",
       "    .dataframe thead th {\n",
       "        text-align: right;\n",
       "    }\n",
       "</style>\n",
       "<table border=\"1\" class=\"dataframe\">\n",
       "  <thead>\n",
       "    <tr style=\"text-align: right;\">\n",
       "      <th></th>\n",
       "      <th>Destination Port</th>\n",
       "      <th>Flow Duration</th>\n",
       "      <th>Total Fwd Packets</th>\n",
       "      <th>Total Backward Packets</th>\n",
       "      <th>Total Length of Fwd Packets</th>\n",
       "      <th>Total Length of Bwd Packets</th>\n",
       "      <th>Fwd Packet Length Max</th>\n",
       "      <th>Fwd Packet Length Min</th>\n",
       "      <th>Fwd Packet Length Mean</th>\n",
       "      <th>Fwd Packet Length Std</th>\n",
       "      <th>...</th>\n",
       "      <th>min_seg_size_forward</th>\n",
       "      <th>Active Mean</th>\n",
       "      <th>Active Std</th>\n",
       "      <th>Active Max</th>\n",
       "      <th>Active Min</th>\n",
       "      <th>Idle Mean</th>\n",
       "      <th>Idle Std</th>\n",
       "      <th>Idle Max</th>\n",
       "      <th>Idle Min</th>\n",
       "      <th>Label</th>\n",
       "    </tr>\n",
       "  </thead>\n",
       "  <tbody>\n",
       "    <tr>\n",
       "      <th>0</th>\n",
       "      <td>49188</td>\n",
       "      <td>4</td>\n",
       "      <td>2</td>\n",
       "      <td>0</td>\n",
       "      <td>12</td>\n",
       "      <td>0</td>\n",
       "      <td>6</td>\n",
       "      <td>6</td>\n",
       "      <td>6.0</td>\n",
       "      <td>0.0</td>\n",
       "      <td>...</td>\n",
       "      <td>20</td>\n",
       "      <td>0.0</td>\n",
       "      <td>0.0</td>\n",
       "      <td>0</td>\n",
       "      <td>0</td>\n",
       "      <td>0.0</td>\n",
       "      <td>0.0</td>\n",
       "      <td>0</td>\n",
       "      <td>0</td>\n",
       "      <td>BENIGN</td>\n",
       "    </tr>\n",
       "    <tr>\n",
       "      <th>1</th>\n",
       "      <td>49188</td>\n",
       "      <td>1</td>\n",
       "      <td>2</td>\n",
       "      <td>0</td>\n",
       "      <td>12</td>\n",
       "      <td>0</td>\n",
       "      <td>6</td>\n",
       "      <td>6</td>\n",
       "      <td>6.0</td>\n",
       "      <td>0.0</td>\n",
       "      <td>...</td>\n",
       "      <td>20</td>\n",
       "      <td>0.0</td>\n",
       "      <td>0.0</td>\n",
       "      <td>0</td>\n",
       "      <td>0</td>\n",
       "      <td>0.0</td>\n",
       "      <td>0.0</td>\n",
       "      <td>0</td>\n",
       "      <td>0</td>\n",
       "      <td>BENIGN</td>\n",
       "    </tr>\n",
       "    <tr>\n",
       "      <th>2</th>\n",
       "      <td>49188</td>\n",
       "      <td>1</td>\n",
       "      <td>2</td>\n",
       "      <td>0</td>\n",
       "      <td>12</td>\n",
       "      <td>0</td>\n",
       "      <td>6</td>\n",
       "      <td>6</td>\n",
       "      <td>6.0</td>\n",
       "      <td>0.0</td>\n",
       "      <td>...</td>\n",
       "      <td>20</td>\n",
       "      <td>0.0</td>\n",
       "      <td>0.0</td>\n",
       "      <td>0</td>\n",
       "      <td>0</td>\n",
       "      <td>0.0</td>\n",
       "      <td>0.0</td>\n",
       "      <td>0</td>\n",
       "      <td>0</td>\n",
       "      <td>BENIGN</td>\n",
       "    </tr>\n",
       "    <tr>\n",
       "      <th>3</th>\n",
       "      <td>49188</td>\n",
       "      <td>1</td>\n",
       "      <td>2</td>\n",
       "      <td>0</td>\n",
       "      <td>12</td>\n",
       "      <td>0</td>\n",
       "      <td>6</td>\n",
       "      <td>6</td>\n",
       "      <td>6.0</td>\n",
       "      <td>0.0</td>\n",
       "      <td>...</td>\n",
       "      <td>20</td>\n",
       "      <td>0.0</td>\n",
       "      <td>0.0</td>\n",
       "      <td>0</td>\n",
       "      <td>0</td>\n",
       "      <td>0.0</td>\n",
       "      <td>0.0</td>\n",
       "      <td>0</td>\n",
       "      <td>0</td>\n",
       "      <td>BENIGN</td>\n",
       "    </tr>\n",
       "    <tr>\n",
       "      <th>4</th>\n",
       "      <td>49486</td>\n",
       "      <td>3</td>\n",
       "      <td>2</td>\n",
       "      <td>0</td>\n",
       "      <td>12</td>\n",
       "      <td>0</td>\n",
       "      <td>6</td>\n",
       "      <td>6</td>\n",
       "      <td>6.0</td>\n",
       "      <td>0.0</td>\n",
       "      <td>...</td>\n",
       "      <td>20</td>\n",
       "      <td>0.0</td>\n",
       "      <td>0.0</td>\n",
       "      <td>0</td>\n",
       "      <td>0</td>\n",
       "      <td>0.0</td>\n",
       "      <td>0.0</td>\n",
       "      <td>0</td>\n",
       "      <td>0</td>\n",
       "      <td>BENIGN</td>\n",
       "    </tr>\n",
       "  </tbody>\n",
       "</table>\n",
       "<p>5 rows × 78 columns</p>\n",
       "</div>"
      ],
      "text/plain": [
       "   Destination Port  Flow Duration  Total Fwd Packets  Total Backward Packets  \\\n",
       "0             49188              4                  2                       0   \n",
       "1             49188              1                  2                       0   \n",
       "2             49188              1                  2                       0   \n",
       "3             49188              1                  2                       0   \n",
       "4             49486              3                  2                       0   \n",
       "\n",
       "   Total Length of Fwd Packets  Total Length of Bwd Packets  \\\n",
       "0                           12                            0   \n",
       "1                           12                            0   \n",
       "2                           12                            0   \n",
       "3                           12                            0   \n",
       "4                           12                            0   \n",
       "\n",
       "   Fwd Packet Length Max  Fwd Packet Length Min  Fwd Packet Length Mean  \\\n",
       "0                      6                      6                     6.0   \n",
       "1                      6                      6                     6.0   \n",
       "2                      6                      6                     6.0   \n",
       "3                      6                      6                     6.0   \n",
       "4                      6                      6                     6.0   \n",
       "\n",
       "   Fwd Packet Length Std  ...  min_seg_size_forward  Active Mean  Active Std  \\\n",
       "0                    0.0  ...                    20          0.0         0.0   \n",
       "1                    0.0  ...                    20          0.0         0.0   \n",
       "2                    0.0  ...                    20          0.0         0.0   \n",
       "3                    0.0  ...                    20          0.0         0.0   \n",
       "4                    0.0  ...                    20          0.0         0.0   \n",
       "\n",
       "   Active Max  Active Min  Idle Mean  Idle Std  Idle Max  Idle Min   Label  \n",
       "0           0           0        0.0       0.0         0         0  BENIGN  \n",
       "1           0           0        0.0       0.0         0         0  BENIGN  \n",
       "2           0           0        0.0       0.0         0         0  BENIGN  \n",
       "3           0           0        0.0       0.0         0         0  BENIGN  \n",
       "4           0           0        0.0       0.0         0         0  BENIGN  \n",
       "\n",
       "[5 rows x 78 columns]"
      ]
     },
     "execution_count": 3,
     "metadata": {},
     "output_type": "execute_result"
    }
   ],
   "source": [
    "initial_data.head(n=5)"
   ]
  },
  {
   "cell_type": "code",
   "execution_count": 4,
   "id": "8cfc3034",
   "metadata": {},
   "outputs": [
    {
     "data": {
      "text/plain": [
       "(2827876, 78)"
      ]
     },
     "execution_count": 4,
     "metadata": {},
     "output_type": "execute_result"
    }
   ],
   "source": [
    "initial_data.shape"
   ]
  },
  {
   "cell_type": "code",
   "execution_count": 5,
   "id": "dc637ce7",
   "metadata": {},
   "outputs": [
    {
     "data": {
      "text/plain": [
       "(2827876, 78)"
      ]
     },
     "execution_count": 5,
     "metadata": {},
     "output_type": "execute_result"
    }
   ],
   "source": [
    "data_to_use = initial_data.dropna()\n",
    "data_to_use.shape"
   ]
  },
  {
   "cell_type": "code",
   "execution_count": 6,
   "id": "049949b0",
   "metadata": {},
   "outputs": [
    {
     "data": {
      "text/html": [
       "<div>\n",
       "<style scoped>\n",
       "    .dataframe tbody tr th:only-of-type {\n",
       "        vertical-align: middle;\n",
       "    }\n",
       "\n",
       "    .dataframe tbody tr th {\n",
       "        vertical-align: top;\n",
       "    }\n",
       "\n",
       "    .dataframe thead th {\n",
       "        text-align: right;\n",
       "    }\n",
       "</style>\n",
       "<table border=\"1\" class=\"dataframe\">\n",
       "  <thead>\n",
       "    <tr style=\"text-align: right;\">\n",
       "      <th></th>\n",
       "      <th>Destination Port</th>\n",
       "      <th>Flow Duration</th>\n",
       "      <th>Total Fwd Packets</th>\n",
       "      <th>Total Backward Packets</th>\n",
       "      <th>Total Length of Fwd Packets</th>\n",
       "      <th>Total Length of Bwd Packets</th>\n",
       "      <th>Fwd Packet Length Max</th>\n",
       "      <th>Fwd Packet Length Min</th>\n",
       "      <th>Fwd Packet Length Mean</th>\n",
       "      <th>Fwd Packet Length Std</th>\n",
       "      <th>...</th>\n",
       "      <th>min_seg_size_forward</th>\n",
       "      <th>Active Mean</th>\n",
       "      <th>Active Std</th>\n",
       "      <th>Active Max</th>\n",
       "      <th>Active Min</th>\n",
       "      <th>Idle Mean</th>\n",
       "      <th>Idle Std</th>\n",
       "      <th>Idle Max</th>\n",
       "      <th>Idle Min</th>\n",
       "      <th>Label</th>\n",
       "    </tr>\n",
       "  </thead>\n",
       "  <tbody>\n",
       "    <tr>\n",
       "      <th>0</th>\n",
       "      <td>49188</td>\n",
       "      <td>4</td>\n",
       "      <td>2</td>\n",
       "      <td>0</td>\n",
       "      <td>12</td>\n",
       "      <td>0</td>\n",
       "      <td>6</td>\n",
       "      <td>6</td>\n",
       "      <td>6.0</td>\n",
       "      <td>0.0</td>\n",
       "      <td>...</td>\n",
       "      <td>20</td>\n",
       "      <td>0.0</td>\n",
       "      <td>0.0</td>\n",
       "      <td>0</td>\n",
       "      <td>0</td>\n",
       "      <td>0.0</td>\n",
       "      <td>0.0</td>\n",
       "      <td>0</td>\n",
       "      <td>0</td>\n",
       "      <td>BENIGN</td>\n",
       "    </tr>\n",
       "    <tr>\n",
       "      <th>1</th>\n",
       "      <td>49188</td>\n",
       "      <td>1</td>\n",
       "      <td>2</td>\n",
       "      <td>0</td>\n",
       "      <td>12</td>\n",
       "      <td>0</td>\n",
       "      <td>6</td>\n",
       "      <td>6</td>\n",
       "      <td>6.0</td>\n",
       "      <td>0.0</td>\n",
       "      <td>...</td>\n",
       "      <td>20</td>\n",
       "      <td>0.0</td>\n",
       "      <td>0.0</td>\n",
       "      <td>0</td>\n",
       "      <td>0</td>\n",
       "      <td>0.0</td>\n",
       "      <td>0.0</td>\n",
       "      <td>0</td>\n",
       "      <td>0</td>\n",
       "      <td>BENIGN</td>\n",
       "    </tr>\n",
       "    <tr>\n",
       "      <th>2</th>\n",
       "      <td>49188</td>\n",
       "      <td>1</td>\n",
       "      <td>2</td>\n",
       "      <td>0</td>\n",
       "      <td>12</td>\n",
       "      <td>0</td>\n",
       "      <td>6</td>\n",
       "      <td>6</td>\n",
       "      <td>6.0</td>\n",
       "      <td>0.0</td>\n",
       "      <td>...</td>\n",
       "      <td>20</td>\n",
       "      <td>0.0</td>\n",
       "      <td>0.0</td>\n",
       "      <td>0</td>\n",
       "      <td>0</td>\n",
       "      <td>0.0</td>\n",
       "      <td>0.0</td>\n",
       "      <td>0</td>\n",
       "      <td>0</td>\n",
       "      <td>BENIGN</td>\n",
       "    </tr>\n",
       "    <tr>\n",
       "      <th>3</th>\n",
       "      <td>49188</td>\n",
       "      <td>1</td>\n",
       "      <td>2</td>\n",
       "      <td>0</td>\n",
       "      <td>12</td>\n",
       "      <td>0</td>\n",
       "      <td>6</td>\n",
       "      <td>6</td>\n",
       "      <td>6.0</td>\n",
       "      <td>0.0</td>\n",
       "      <td>...</td>\n",
       "      <td>20</td>\n",
       "      <td>0.0</td>\n",
       "      <td>0.0</td>\n",
       "      <td>0</td>\n",
       "      <td>0</td>\n",
       "      <td>0.0</td>\n",
       "      <td>0.0</td>\n",
       "      <td>0</td>\n",
       "      <td>0</td>\n",
       "      <td>BENIGN</td>\n",
       "    </tr>\n",
       "    <tr>\n",
       "      <th>4</th>\n",
       "      <td>49486</td>\n",
       "      <td>3</td>\n",
       "      <td>2</td>\n",
       "      <td>0</td>\n",
       "      <td>12</td>\n",
       "      <td>0</td>\n",
       "      <td>6</td>\n",
       "      <td>6</td>\n",
       "      <td>6.0</td>\n",
       "      <td>0.0</td>\n",
       "      <td>...</td>\n",
       "      <td>20</td>\n",
       "      <td>0.0</td>\n",
       "      <td>0.0</td>\n",
       "      <td>0</td>\n",
       "      <td>0</td>\n",
       "      <td>0.0</td>\n",
       "      <td>0.0</td>\n",
       "      <td>0</td>\n",
       "      <td>0</td>\n",
       "      <td>BENIGN</td>\n",
       "    </tr>\n",
       "  </tbody>\n",
       "</table>\n",
       "<p>5 rows × 78 columns</p>\n",
       "</div>"
      ],
      "text/plain": [
       "   Destination Port  Flow Duration  Total Fwd Packets  Total Backward Packets  \\\n",
       "0             49188              4                  2                       0   \n",
       "1             49188              1                  2                       0   \n",
       "2             49188              1                  2                       0   \n",
       "3             49188              1                  2                       0   \n",
       "4             49486              3                  2                       0   \n",
       "\n",
       "   Total Length of Fwd Packets  Total Length of Bwd Packets  \\\n",
       "0                           12                            0   \n",
       "1                           12                            0   \n",
       "2                           12                            0   \n",
       "3                           12                            0   \n",
       "4                           12                            0   \n",
       "\n",
       "   Fwd Packet Length Max  Fwd Packet Length Min  Fwd Packet Length Mean  \\\n",
       "0                      6                      6                     6.0   \n",
       "1                      6                      6                     6.0   \n",
       "2                      6                      6                     6.0   \n",
       "3                      6                      6                     6.0   \n",
       "4                      6                      6                     6.0   \n",
       "\n",
       "   Fwd Packet Length Std  ...  min_seg_size_forward  Active Mean  Active Std  \\\n",
       "0                    0.0  ...                    20          0.0         0.0   \n",
       "1                    0.0  ...                    20          0.0         0.0   \n",
       "2                    0.0  ...                    20          0.0         0.0   \n",
       "3                    0.0  ...                    20          0.0         0.0   \n",
       "4                    0.0  ...                    20          0.0         0.0   \n",
       "\n",
       "   Active Max  Active Min  Idle Mean  Idle Std  Idle Max  Idle Min   Label  \n",
       "0           0           0        0.0       0.0         0         0  BENIGN  \n",
       "1           0           0        0.0       0.0         0         0  BENIGN  \n",
       "2           0           0        0.0       0.0         0         0  BENIGN  \n",
       "3           0           0        0.0       0.0         0         0  BENIGN  \n",
       "4           0           0        0.0       0.0         0         0  BENIGN  \n",
       "\n",
       "[5 rows x 78 columns]"
      ]
     },
     "execution_count": 6,
     "metadata": {},
     "output_type": "execute_result"
    }
   ],
   "source": [
    "data_to_use.head(n=5)"
   ]
  },
  {
   "cell_type": "code",
   "execution_count": 7,
   "id": "6707bb68",
   "metadata": {},
   "outputs": [],
   "source": [
    "X = data_to_use.drop(axis=1, columns=[ 'Label'])\n",
    "#X = X.drop(axis=1, columns=['label'])\n",
    "\n",
    "y1 = data_to_use['Label'].values\n",
    "#y2 = data_to_use[ 'label'].values\n",
    "\n",
    "# SMOTE上采样\n",
    "#smote = SMOTE()\n",
    "#X , y1 = smote.fit_resample(X, y1)\n",
    "# ADASYN上采样\n",
    "#adasyn = ADASYN()\n",
    "#X, y1 = adasyn.fit_resample(X, y1)\n",
    "\"\"\"\n",
    "# 创建权重字典\n",
    "class_weights = {\"BENIGN\":                       1.0,\n",
    "                \"DoS Hulk\":                      5,\n",
    "                \"PortScan\":                      7,\n",
    "                \"DDoS\":                          7,\n",
    "                \"DoS GoldenEye\":                 10,\n",
    "                \"FTP-Patator\":                   10,\n",
    "                \"SSH-Patator\":                   10,\n",
    "                \"DoS slowloris\":                 10,\n",
    "                \"DoS Slowhttptest\":              10,\n",
    "                \"Bot\":                           12,\n",
    "                \"Web Attack � Brute Force\":      12,\n",
    "                \"Web Attack � XSS\":              15,\n",
    "                \"Infiltration\":                  20,\n",
    "                \"Web Attack � Sql Injection\":    50,\n",
    "                \"Heartbleed\":                    50,\n",
    "                }\n",
    "\n",
    "# 根据每个样本的标签在权重字典中查找相应的权重值\n",
    "sample_weights = np.array([class_weights[label] for label in y1])\n",
    "\"\"\"\n",
    "\n",
    "# 划分训练集和测试集\n",
    "X_train, X_test, y1_train, y1_test = train_test_split(X, y1, test_size=0.2, random_state=123)"
   ]
  },
  {
   "cell_type": "code",
   "execution_count": 8,
   "id": "f746052a",
   "metadata": {},
   "outputs": [],
   "source": [
    "def data_ratio(y1):\n",
    "    unique, count = np.unique(y1, return_counts=True)\n",
    "    ratio = round(count[0]/count[1], 1)\n",
    "    return f'{ratio}:1 ({count[0]}/{count[1]})'"
   ]
  },
  {
   "cell_type": "code",
   "execution_count": 9,
   "id": "2c5d7caa",
   "metadata": {},
   "outputs": [],
   "source": [
    "#print(X[:3])"
   ]
  },
  {
   "cell_type": "code",
   "execution_count": 10,
   "id": "07728893",
   "metadata": {},
   "outputs": [],
   "source": [
    "#fig= plt.subplots(figsize=(13,5))\n",
    "#sns.countplot(x=data_to_use['attack_cat'])\n",
    "#fig= plt.subplots(figsize=(7,5))\n",
    "#sns.countplot(x=data_to_use['label'])"
   ]
  },
  {
   "cell_type": "code",
   "execution_count": 11,
   "id": "dd5c63e8",
   "metadata": {},
   "outputs": [
    {
     "data": {
      "text/plain": [
       "\"\\n#test_data = pd.read_csv('K:\\\\Data\\\\MachineLearningCSV\\\\MachineLearningCVE\\\\total4.csv')\\nX_test = test_data.drop(axis=1, columns=['Label'])\\n#X_test = X_test.drop(axis=1, columns=['label'])\\n\\ny1_test = test_data['Label'].values\\n#y2_test = test_data['label'].values\\nX_train = X\\n\\ny1_train = y1\\n#y2_train = y2\\n\""
      ]
     },
     "execution_count": 11,
     "metadata": {},
     "output_type": "execute_result"
    }
   ],
   "source": [
    "\"\"\"\n",
    "#test_data = pd.read_csv('K:\\\\Data\\\\MachineLearningCSV\\\\MachineLearningCVE\\\\total4.csv')\n",
    "X_test = test_data.drop(axis=1, columns=['Label'])\n",
    "#X_test = X_test.drop(axis=1, columns=['label'])\n",
    "\n",
    "y1_test = test_data['Label'].values\n",
    "#y2_test = test_data['label'].values\n",
    "X_train = X\n",
    "\n",
    "y1_train = y1\n",
    "#y2_train = y2\n",
    "\"\"\""
   ]
  },
  {
   "cell_type": "code",
   "execution_count": 12,
   "id": "d2cda5e5",
   "metadata": {},
   "outputs": [],
   "source": [
    "numerical_cols = X.select_dtypes(include=['int64', 'float64']).columns\n",
    "categorical_cols = X.select_dtypes(include=['object', 'bool']).columns"
   ]
  },
  {
   "cell_type": "code",
   "execution_count": 13,
   "id": "d5514ed9",
   "metadata": {},
   "outputs": [
    {
     "data": {
      "text/plain": [
       "Index(['Destination Port', 'Flow Duration', 'Total Fwd Packets',\n",
       "       'Total Backward Packets', 'Total Length of Fwd Packets',\n",
       "       'Total Length of Bwd Packets', 'Fwd Packet Length Max',\n",
       "       'Fwd Packet Length Min', 'Fwd Packet Length Mean',\n",
       "       'Fwd Packet Length Std', 'Bwd Packet Length Max',\n",
       "       'Bwd Packet Length Min', 'Bwd Packet Length Mean',\n",
       "       'Bwd Packet Length Std', 'Flow Bytes/s', 'Flow Packets/s',\n",
       "       'Flow IAT Mean', 'Flow IAT Std', 'Flow IAT Max', 'Flow IAT Min',\n",
       "       'Fwd IAT Total', 'Fwd IAT Mean', 'Fwd IAT Std', 'Fwd IAT Max',\n",
       "       'Fwd IAT Min', 'Bwd IAT Total', 'Bwd IAT Mean', 'Bwd IAT Std',\n",
       "       'Bwd IAT Max', 'Bwd IAT Min', 'Fwd PSH Flags', 'Bwd PSH Flags',\n",
       "       'Fwd URG Flags', 'Bwd URG Flags', 'Fwd Header Length',\n",
       "       'Bwd Header Length', 'Fwd Packets/s', 'Bwd Packets/s',\n",
       "       'Min Packet Length', 'Max Packet Length', 'Packet Length Mean',\n",
       "       'Packet Length Std', 'Packet Length Variance', 'FIN Flag Count',\n",
       "       'SYN Flag Count', 'RST Flag Count', 'PSH Flag Count', 'ACK Flag Count',\n",
       "       'URG Flag Count', 'CWE Flag Count', 'ECE Flag Count', 'Down/Up Ratio',\n",
       "       'Average Packet Size', 'Avg Fwd Segment Size', 'Avg Bwd Segment Size',\n",
       "       'Fwd Avg Bytes/Bulk', 'Fwd Avg Packets/Bulk', 'Fwd Avg Bulk Rate',\n",
       "       'Bwd Avg Bytes/Bulk', 'Bwd Avg Packets/Bulk', 'Bwd Avg Bulk Rate',\n",
       "       'Subflow Fwd Packets', 'Subflow Fwd Bytes', 'Subflow Bwd Packets',\n",
       "       'Subflow Bwd Bytes', 'Init_Win_bytes_forward',\n",
       "       'Init_Win_bytes_backward', 'act_data_pkt_fwd', 'min_seg_size_forward',\n",
       "       'Active Mean', 'Active Std', 'Active Max', 'Active Min', 'Idle Mean',\n",
       "       'Idle Std', 'Idle Max', 'Idle Min'],\n",
       "      dtype='object')"
      ]
     },
     "execution_count": 13,
     "metadata": {},
     "output_type": "execute_result"
    }
   ],
   "source": [
    "numerical_cols"
   ]
  },
  {
   "cell_type": "code",
   "execution_count": 14,
   "id": "260521fc",
   "metadata": {},
   "outputs": [
    {
     "data": {
      "text/plain": [
       "Index([], dtype='object')"
      ]
     },
     "execution_count": 14,
     "metadata": {},
     "output_type": "execute_result"
    }
   ],
   "source": [
    "categorical_cols"
   ]
  },
  {
   "cell_type": "code",
   "execution_count": 15,
   "id": "00e19509",
   "metadata": {
    "scrolled": true
   },
   "outputs": [],
   "source": [
    "import joblib\n",
    "t = [('ohe', OneHotEncoder(drop='first'), categorical_cols),\n",
    "('scale', StandardScaler(), numerical_cols)]\n",
    "\n",
    "col_trans = ColumnTransformer(transformers=t)\n",
    "col_trans.fit(X_train)\n",
    "joblib.dump(col_trans, 'col_trans.joblib')\n",
    "\n",
    "col_trans = joblib.load('col_trans.joblib')"
   ]
  },
  {
   "cell_type": "code",
   "execution_count": 16,
   "id": "ae202e82",
   "metadata": {},
   "outputs": [],
   "source": [
    "X_train_transform = col_trans.transform(X_train)"
   ]
  },
  {
   "cell_type": "code",
   "execution_count": 17,
   "id": "01d41801",
   "metadata": {},
   "outputs": [],
   "source": [
    "X_test_transform = col_trans.transform(X_test)"
   ]
  },
  {
   "cell_type": "code",
   "execution_count": 18,
   "id": "db0fb5b9",
   "metadata": {},
   "outputs": [
    {
     "data": {
      "text/plain": [
       "(2262300, 77)"
      ]
     },
     "execution_count": 18,
     "metadata": {},
     "output_type": "execute_result"
    }
   ],
   "source": [
    "X_train_transform.shape"
   ]
  },
  {
   "cell_type": "code",
   "execution_count": 19,
   "id": "b863c190",
   "metadata": {},
   "outputs": [
    {
     "data": {
      "text/plain": [
       "(565576, 77)"
      ]
     },
     "execution_count": 19,
     "metadata": {},
     "output_type": "execute_result"
    }
   ],
   "source": [
    "X_test_transform.shape"
   ]
  },
  {
   "cell_type": "code",
   "execution_count": 20,
   "id": "10360601",
   "metadata": {},
   "outputs": [
    {
     "data": {
      "text/plain": [
       "array(['BENIGN', 'DDoS', 'PortScan', 'Bot', 'Infiltration',\n",
       "       'Web Attack � Brute Force', 'Web Attack � XSS',\n",
       "       'Web Attack � Sql Injection', 'FTP-Patator', 'SSH-Patator',\n",
       "       'DoS slowloris', 'DoS Slowhttptest', 'DoS Hulk', 'DoS GoldenEye',\n",
       "       'Heartbleed'], dtype=object)"
      ]
     },
     "execution_count": 20,
     "metadata": {},
     "output_type": "execute_result"
    }
   ],
   "source": [
    "pd.unique(y1)"
   ]
  },
  {
   "cell_type": "code",
   "execution_count": 21,
   "id": "88d44ec7",
   "metadata": {},
   "outputs": [
    {
     "name": "stdout",
     "output_type": "stream",
     "text": [
      "[ 0  2 10  6  4  3  7 12 11  5  1 14 13  8  9]\n"
     ]
    }
   ],
   "source": [
    "target_trans = LabelEncoder()\n",
    "#y_encoded = target_trans.fit(y1_train)\n",
    "y_encoded = target_trans.fit_transform(y1_train)\n",
    "print(pd.unique(y_encoded))"
   ]
  },
  {
   "cell_type": "code",
   "execution_count": 22,
   "id": "b83eec09",
   "metadata": {},
   "outputs": [],
   "source": [
    "y1_train_transform = target_trans.transform(y1_train)\n",
    "y1_test_transform = target_trans.transform(y1_test)"
   ]
  },
  {
   "cell_type": "code",
   "execution_count": 23,
   "id": "f249ce7c",
   "metadata": {},
   "outputs": [
    {
     "name": "stdout",
     "output_type": "stream",
     "text": [
      "[[-0.43839652 -0.4390986  -0.01117066 -0.00942907 -0.04772149 -0.00706403\n",
      "  -0.22700992  0.43548744 -0.070903   -0.24537129 -0.39163784  0.98606295\n",
      "  -0.32557127 -0.39948605 -0.0572983  -0.27813922 -0.28292716 -0.36322122\n",
      "  -0.37483487 -0.04713318 -0.43181105 -0.27427096 -0.33922355 -0.36905252\n",
      "  -0.11918756 -0.34456991 -0.20333834 -0.23670881 -0.27319976 -0.11654086\n",
      "  -0.22067228  0.         -0.01042836  0.          0.00128657  0.00161874\n",
      "  -0.25795971 -0.18236124  1.12841953 -0.41502167 -0.34588503 -0.40851428\n",
      "  -0.29421712 -0.19121231 -0.22067228 -0.015693   -0.65234568 -0.6786085\n",
      "  -0.32367406 -0.01042836 -0.01572116  0.46228777 -0.27884938 -0.070903\n",
      "  -0.32557127  0.          0.          0.          0.          0.\n",
      "   0.         -0.01117066 -0.04779243 -0.00942907 -0.00706384 -0.48783261\n",
      "  -0.23562684 -0.00844654  0.0026115  -0.12778382 -0.10461577 -0.15014282\n",
      "  -0.10310073 -0.35226162 -0.10964624 -0.35721419 -0.3393042 ]]\n"
     ]
    }
   ],
   "source": [
    "#pd.set_option('display.max_rows', None)\n",
    "#print(X_train_transform[:1])"
   ]
  },
  {
   "cell_type": "code",
   "execution_count": 24,
   "id": "29c85a16",
   "metadata": {},
   "outputs": [
    {
     "name": "stdout",
     "output_type": "stream",
     "text": [
      "         0         1         2         3         4         5         6   \\\n",
      "0 -0.438397 -0.439099 -0.011171 -0.009429 -0.047721 -0.007064 -0.227010   \n",
      "1 -0.417058 -0.439791 -0.009827 -0.009429 -0.048478 -0.007112 -0.238178   \n",
      "2 -0.436919  2.192229 -0.000424 -0.006399 -0.046115 -0.001975 -0.261910   \n",
      "\n",
      "         7         8         9   ...        67        68        69        70  \\\n",
      "0  0.435487 -0.070903 -0.245371  ... -0.008447  0.002611 -0.127784 -0.104616   \n",
      "1 -0.310271 -0.213611 -0.152160  ... -0.008447  0.002622 -0.127784 -0.104616   \n",
      "2 -0.310271 -0.276140 -0.226482  ...  0.002256  0.002611 -0.121484 -0.104616   \n",
      "\n",
      "         71        72        73         74        75        76  \n",
      "0 -0.150143 -0.103101 -0.352262  -0.109646 -0.357214 -0.339304  \n",
      "1 -0.150143 -0.103101 -0.352262  -0.109646 -0.357214 -0.339304  \n",
      "2 -0.146210 -0.095982  1.508764  11.530974  3.002106 -0.075878  \n",
      "\n",
      "[3 rows x 77 columns]\n"
     ]
    }
   ],
   "source": [
    "#print(DataFrame(X_train_transform[:3]))"
   ]
  },
  {
   "cell_type": "code",
   "execution_count": 25,
   "id": "0d0796e3",
   "metadata": {},
   "outputs": [],
   "source": [
    "#clf = LogisticRegression(solver='lbfgs', random_state=123, max_iter = 4000, multi_class = \"ovr\")\n",
    "#clf = DecisionTreeClassifier(random_state=123)\n",
    "clf = RandomForestClassifier(random_state=123, max_depth=10, min_samples_split=5, min_samples_leaf=2)\n",
    "#clf = neighbors.KNeighborsClassifier()\n",
    "#model = MLPClassifier(random_state=123, solver='adam', max_iter=8000)\n",
    "#cv = StratifiedKFold(n_splits=5, shuffle=True, random_state=123)\n",
    "\n",
    "#scoring = ['accuracy', 'precision_micro', 'recall_micro', 'f1_micro', 'roc_auc_ovr']\n",
    "\n",
    "#cv_results = cross_validate(estimator=clf,\n",
    "#                            X=X_train_transform,\n",
    "#                            y=y1_train_transform,\n",
    " #                           scoring=scoring,\n",
    "#                            cv=cv,\n",
    "#                            return_train_score=False)"
   ]
  },
  {
   "cell_type": "code",
   "execution_count": 26,
   "id": "919b127c",
   "metadata": {},
   "outputs": [],
   "source": [
    "#MLPmodel = [('MultiLayerPerceptron', MLPClassifier(random_state=123, solver='adam', max_iter=8000))]"
   ]
  },
  {
   "cell_type": "code",
   "execution_count": 27,
   "id": "10399f7a",
   "metadata": {},
   "outputs": [],
   "source": [
    "#for  model_name,clf in MLPmodel:\n",
    "#    print(clf)"
   ]
  },
  {
   "cell_type": "code",
   "execution_count": 28,
   "id": "fc7d58c8",
   "metadata": {},
   "outputs": [],
   "source": [
    "#cv_results['test_accuracy'].mean()"
   ]
  },
  {
   "cell_type": "code",
   "execution_count": 29,
   "id": "a35b4390",
   "metadata": {},
   "outputs": [
    {
     "name": "stderr",
     "output_type": "stream",
     "text": [
      "K:\\Anaconda\\envs\\mytensor\\lib\\site-packages\\sklearn\\metrics\\_classification.py:1344: UndefinedMetricWarning: Precision and F-score are ill-defined and being set to 0.0 in labels with no predicted samples. Use `zero_division` parameter to control this behavior.\n",
      "  _warn_prf(average, modifier, msg_start, len(result))\n"
     ]
    },
    {
     "name": "stdout",
     "output_type": "stream",
     "text": [
      "The precision score on the test set: 0.99555\n",
      "The recall score on the test set: 0.99555\n",
      "Confusion Matrix:\n",
      " [[454102      0     10      1    180     45      0      0      0      0\n",
      "     186      0      0      0      0]\n",
      " [   389      5      0      0      0      0      0      0      0      0\n",
      "       0      0      0      0      0]\n",
      " [    56      0  25427      0      0      0      0      0      0      0\n",
      "       0      0      0      0      0]\n",
      " [   168      0      0   1876      1      2      0      0      0      0\n",
      "       0      0      0      0      0]\n",
      " [   519      0      1      0  45584      0      0      0      0      0\n",
      "       0      0      0      0      0]\n",
      " [    91      0      0      0      0    977      0      0      0      0\n",
      "       0      0      0      0      0]\n",
      " [    81      0      0      0      0      0   1078      0      0      0\n",
      "       0      0      0      0      0]\n",
      " [     5      0      0      0      0      0      0   1586      0      0\n",
      "       0      0      0      0      0]\n",
      " [     0      0      0      0      0      0      0      0      2      0\n",
      "       0      0      0      0      0]\n",
      " [     8      0      0      0      0      0      0      0      0      0\n",
      "       0      0      0      0      0]\n",
      " [    20      0      0      0     14      0      0      0      0      0\n",
      "   31540      0      0      0      0]\n",
      " [   318      0      0      0      2      0      0      0      0      0\n",
      "       0    884      0      0      0]\n",
      " [   297      0      0      0      0      0      0      0      0      0\n",
      "       0      0      0      0      0]\n",
      " [     2      0      0      0      0      0      0      0      0      0\n",
      "       0      0      0      0      0]\n",
      " [   119      0      0      0      0      0      0      0      0      0\n",
      "       0      0      0      0      0]]\n",
      "Classification Report:\n",
      "               precision    recall  f1-score   support\n",
      "\n",
      "           0       1.00      1.00      1.00    454524\n",
      "           1       1.00      0.01      0.03       394\n",
      "           2       1.00      1.00      1.00     25483\n",
      "           3       1.00      0.92      0.96      2047\n",
      "           4       1.00      0.99      0.99     46104\n",
      "           5       0.95      0.91      0.93      1068\n",
      "           6       1.00      0.93      0.96      1159\n",
      "           7       1.00      1.00      1.00      1591\n",
      "           8       1.00      1.00      1.00         2\n",
      "           9       0.00      0.00      0.00         8\n",
      "          10       0.99      1.00      1.00     31574\n",
      "          11       1.00      0.73      0.85      1204\n",
      "          12       0.00      0.00      0.00       297\n",
      "          13       0.00      0.00      0.00         2\n",
      "          14       0.00      0.00      0.00       119\n",
      "\n",
      "    accuracy                           1.00    565576\n",
      "   macro avg       0.73      0.63      0.65    565576\n",
      "weighted avg       0.99      1.00      0.99    565576\n",
      "\n"
     ]
    },
    {
     "name": "stderr",
     "output_type": "stream",
     "text": [
      "K:\\Anaconda\\envs\\mytensor\\lib\\site-packages\\sklearn\\metrics\\_classification.py:1344: UndefinedMetricWarning: Precision and F-score are ill-defined and being set to 0.0 in labels with no predicted samples. Use `zero_division` parameter to control this behavior.\n",
      "  _warn_prf(average, modifier, msg_start, len(result))\n",
      "K:\\Anaconda\\envs\\mytensor\\lib\\site-packages\\sklearn\\metrics\\_classification.py:1344: UndefinedMetricWarning: Precision and F-score are ill-defined and being set to 0.0 in labels with no predicted samples. Use `zero_division` parameter to control this behavior.\n",
      "  _warn_prf(average, modifier, msg_start, len(result))\n"
     ]
    }
   ],
   "source": [
    "\n",
    "clf.fit(X=X_train_transform, y=y1_train_transform)\n",
    "\n",
    "y_pred_class = clf.predict(X=X_test_transform)\n",
    "y_pred_score = clf.predict_proba(X=X_test_transform)[:, 1]\n",
    "\n",
    "# IEEE\n",
    "\n",
    "cm_ontest = confusion_matrix(y_true=y1_test_transform, y_pred=y_pred_class)\n",
    "# precision HM\n",
    "\n",
    "precision_ontest = precision_score(y_true=y1_test_transform, y_pred=y_pred_class, average='micro')\n",
    "# recall DH\n",
    "recall_ontest = recall_score(y_true=y1_test_transform, y_pred=y_pred_class, average='micro')\n",
    "\n",
    "# DRE\n",
    "cls_report_ontest = classification_report(y_true=y1_test_transform, y_pred=y_pred_class)\n",
    "\n",
    "# FTEIER\n",
    "\n",
    "print('The precision score on the test set: {:1.5f}'.format(precision_ontest))\n",
    "print('The recall score on the test set: {:1.5f}'.format(recall_ontest))\n",
    "print('Confusion Matrix:\\n', cm_ontest)\n",
    "\n",
    "# DERE\n",
    "\n",
    "print('Classification Report:\\n', cls_report_ontest)\n",
    "\n"
   ]
  },
  {
   "cell_type": "code",
   "execution_count": 30,
   "id": "73c6c5c7",
   "metadata": {},
   "outputs": [],
   "source": [
    "#print(clf.feature_importances_)"
   ]
  },
  {
   "cell_type": "code",
   "execution_count": 31,
   "id": "737e63d1",
   "metadata": {},
   "outputs": [
    {
     "data": {
      "text/plain": [
       "'\\nimport pickle\\n\\nwith open(\"crmodel.pkl\", \"wb\") as f:\\n    pickle.dump(clf, f)\\n    \\n# Load the model from file\\nwith open(\"crmodel.pkl\", \"rb\") as f:\\n    loaded_model = pickle.load(f)\\n\\ny_pred_class = loaded_model.predict(X=X_test_transform)\\ny_pred_score = loaded_model.predict_proba(X=X_test_transform)\\n\\ncm_ontest = confusion_matrix(y_true=y1_test_transform, y_pred=y_pred_class)\\n\\nprecision_ontest = precision_score(y_true=y1_test_transform, y_pred=y_pred_class, average=\\'micro\\')\\n\\nrecall_ontest = recall_score(y_true=y1_test_transform, y_pred=y_pred_class, average=\\'micro\\')\\n\\ncls_report_ontest = classification_report(y_true=y1_test_transform, y_pred=y_pred_class)\\n\\nprint(\\'The precision score on the test set: {:1.5f}\\'.format(precision_ontest))\\nprint(\\'The recall score on the test set: {:1.5f}\\'.format(recall_ontest))\\nprint(\\'Confusion Matrix:\\n\\', cm_ontest)\\n\\nprint(\\'Classification Report:\\n\\', cls_report_ontest)\\n'"
      ]
     },
     "execution_count": 31,
     "metadata": {},
     "output_type": "execute_result"
    }
   ],
   "source": [
    "\"\"\"\n",
    "import pickle\n",
    "\n",
    "with open(\"crmodel.pkl\", \"wb\") as f:\n",
    "    pickle.dump(clf, f)\n",
    "    \n",
    "# Load the model from file\n",
    "with open(\"crmodel.pkl\", \"rb\") as f:\n",
    "    loaded_model = pickle.load(f)\n",
    "\n",
    "y_pred_class = loaded_model.predict(X=X_test_transform)\n",
    "y_pred_score = loaded_model.predict_proba(X=X_test_transform)\n",
    "\n",
    "cm_ontest = confusion_matrix(y_true=y1_test_transform, y_pred=y_pred_class)\n",
    "\n",
    "precision_ontest = precision_score(y_true=y1_test_transform, y_pred=y_pred_class, average='micro')\n",
    "\n",
    "recall_ontest = recall_score(y_true=y1_test_transform, y_pred=y_pred_class, average='micro')\n",
    "\n",
    "cls_report_ontest = classification_report(y_true=y1_test_transform, y_pred=y_pred_class)\n",
    "\n",
    "print('The precision score on the test set: {:1.5f}'.format(precision_ontest))\n",
    "print('The recall score on the test set: {:1.5f}'.format(recall_ontest))\n",
    "print('Confusion Matrix:\\n', cm_ontest)\n",
    "\n",
    "print('Classification Report:\\n', cls_report_ontest)\n",
    "\"\"\""
   ]
  },
  {
   "cell_type": "code",
   "execution_count": 32,
   "id": "7f95354b",
   "metadata": {},
   "outputs": [],
   "source": [
    "#models = [('LogisticRegression',LogisticRegression(random_state=123, max_iter=5000, multi_class = \"ovr\")),\n",
    "#        ('DecisionTree', DecisionTreeClassifier(random_state=123)),\n",
    "#        ('RandomForest', RandomForestClassifier(random_state=123)),\n",
    "#        ]"
   ]
  },
  {
   "cell_type": "code",
   "execution_count": 33,
   "id": "38e7993f",
   "metadata": {},
   "outputs": [],
   "source": [
    "#results_dict1 = {'Model Name': model_names_list,\n",
    "#PETER\n",
    "#                'CV Fit Time': cv_fit_time_mean_list,\n",
    "#                'CV Accuracy mean': cv_accuracy_mean_list,\n",
    "#                'CV Precision mean': cv_precision_mean_list,\n",
    "#                'CV Recall mean': cv_recall_mean_list,\n",
    "#                'CV F1 mean': cv_f1_mean_list,\n",
    "#\n",
    "#                'Test Accuracy': test_accuracy_list,\n",
    "#                'Test Precision': test_precision_list,\n",
    "#                'Test Recall': test_recall_list,\n",
    "#                'Test F1': test_f1_list,\n",
    "#                }\n",
    "#results_df = pd.DataFrame(results_dict)\n",
    "#\n",
    "#4 BRUM LE OX NETE\n",
    "#results_df1.sort_values(by='Test F1', ascending=False)"
   ]
  },
  {
   "cell_type": "code",
   "execution_count": 34,
   "id": "e534fb32",
   "metadata": {},
   "outputs": [
    {
     "data": {
      "text/plain": [
       "'\\nimport pandas as pd\\nimport pickle\\n\\n# Load the model from file\\nwith open(\"rmodel.pkl\", \"rb\") as f:\\n    loaded_model = pickle.load(f)\\n\\n# Load the data from file\\n#data = pd.read_csv(\\'data.csv\\')\\n\\n# Make predictions on the data\\ny_pred_class = loaded_model.predict(X=X_test_transform)\\ny_pred_score = loaded_model.predict_proba(X=X_test_transform)\\n\\nprint(y_pred_class)\\n'"
      ]
     },
     "execution_count": 34,
     "metadata": {},
     "output_type": "execute_result"
    }
   ],
   "source": [
    "\"\"\"\n",
    "import pandas as pd\n",
    "import pickle\n",
    "\n",
    "# Load the model from file\n",
    "with open(\"rmodel.pkl\", \"rb\") as f:\n",
    "    loaded_model = pickle.load(f)\n",
    "\n",
    "# Load the data from file\n",
    "#data = pd.read_csv('data.csv')\n",
    "\n",
    "# Make predictions on the data\n",
    "y_pred_class = loaded_model.predict(X=X_test_transform)\n",
    "y_pred_score = loaded_model.predict_proba(X=X_test_transform)\n",
    "\n",
    "print(y_pred_class)\n",
    "\"\"\""
   ]
  }
 ],
 "metadata": {
  "kernelspec": {
   "display_name": "Python 3 (ipykernel)",
   "language": "python",
   "name": "python3"
  },
  "language_info": {
   "codemirror_mode": {
    "name": "ipython",
    "version": 3
   },
   "file_extension": ".py",
   "mimetype": "text/x-python",
   "name": "python",
   "nbconvert_exporter": "python",
   "pygments_lexer": "ipython3",
   "version": "3.9.16"
  }
 },
 "nbformat": 4,
 "nbformat_minor": 5
}
